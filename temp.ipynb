{
    "cells": [
        {
            "cell_type": "markdown",
            "metadata": {
                "cellIdentifier": "7pbi8lj6k5tu6d45g3ndi",
                "deletable": false,
                "editable": false,
                "nbgrader": {
                    "grade": false,
                    "locked": true,
                    "solution": false
                }
            },
            "source": [
                "<img src=\"data:image/png;base64,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\" style=\"width:200px;float:right\">\n",
                "<h1 style=\"color:red\">Please keep to the practical rules and the other educational rules and regulations</h1>\n",
                "\n",
                "<h1>Practical Assignment I: Time-integration methods</h1>\n",
                "\n",
                "<h2>Introduction</h2>\n",
                "\n",
                "Within this assignment you will perform several steps, which will result in one single completed notebook. This notebook must be handed in through the correct Assignment within the course page of your own course.\n",
                "\n",
                "<h3>Questions on the practical assignment</h3>\n",
                "\n",
                "During the practical assignment you can __only__ ask questions using:\n",
                "- the Brightspace Discussions on the course page of your course.\n",
                "- the scheduled help sessions.\n",
                "\n",
                "<h3>Intermediate automatic checks</h3>\n",
                "\n",
                "Within this notebook several intermediate checks are indicated, which must be done in either __Grasple__ or __this notebook__. It is your own responsiblity to do these checks.\n",
                "\n",
                "<h3>Programming</h3>\n",
                "\n",
                "In this notebook a lot of example code is given. You only have to change the code that is between the lines\n",
                "```python\n",
                "    ''' start of lines to be changed '''\n",
                "```\n",
                "and\n",
                "```python\n",
                "    ''' end of lines to be changed '''\n",
                "```\n",
                "\n",
                "<h3>Steps to perform</h3>\n",
                "In this assignment you will perform the following steps:\n",
                "<ul>\n",
                "    <li>Read the problem description;</li>\n",
                "    <li>Collect information and formulate a model (Read the text below &amp; Sub-Assignment 0);</li>\n",
                "    <li>Select an appropriate numerical method (Sub-Assignment 1);</li>\n",
                "    <li>Implement the numerical method (Sub-Assignment 2);</li>\n",
                "    <li>Select appropriate settings for the numerical method (Sub-Assignment 3);</li>\n",
                "    <li>Answer the research question (Sub-Assignment 4);</li>\n",
                "    <li>Submit this notebook in Brightspace for the final assessment (Sub-Assignment 5).</li>\n",
                "</ul>\n",
                "To be able to perform this practical assignment, knowledge and understanding of Chapter 6 of the course book are required.\n",
                "\n",
                "<font size=\"-3\">[C. Vuik, F.J. Vermolen, M.B. van Gijzen, M.J. Vuik, <em>Numerical Methods for Ordinary Differential Equations</em>, TU Delft Open Textbooks](https://textbooks.open.tudelft.nl/textbooks/catalog/book/57)</font>"
            ]
        },
        {
            "cell_type": "markdown",
            "metadata": {
                "cellIdentifier": "cuf4ofxvbhrrwv7p9n11mi",
                "deletable": false,
                "editable": false,
                "nbgrader": {
                    "grade": false,
                    "locked": true,
                    "solution": false
                }
            },
            "source": [
                "<hr style=\"border: 25px solid #00A6D6;border-radius: 10px\">"
            ]
        },
        {
            "cell_type": "markdown",
            "metadata": {
                "cellIdentifier": "l2mubooeb5ycv0vxuc9ca",
                "deletable": false,
                "editable": false,
                "nbgrader": {
                    "grade": false,
                    "locked": true,
                    "solution": false
                }
            },
            "source": [
                "<h1>Problem description</h1>\n",
                "\n",
                "Consider a closed lake containing two fish populations, $y_1(t)$ being a prey fish and $y_2(t)$ being a predator fish. The local authorities consider allowing for fishing on the prey fish $y_1$ during months $3$, $4$, $5$, $6$ and $7$ of each year. They want to investigate the effect of the fishing rate on the populations. They are interested in the maximum fishing rate $W_0$ such that the predator population $y_2$ does not drop below $100$ fish during the first $10$ years.\n",
                "\n",
                "The main research question of this assignment is therefore:\n",
                "\n",
                "> ### __*What is the highest value of $W_0$ such that $y_2(t)\\geq100$ for $t\\in[0,10]$?*__"
            ]
        },
        {
            "cell_type": "markdown",
            "metadata": {
                "cellIdentifier": "rfar380bgebdzc7t7cxpqf",
                "deletable": false,
                "editable": false,
                "nbgrader": {
                    "grade": false,
                    "locked": true,
                    "solution": false
                }
            },
            "source": [
                "<hr style=\"border: 25px solid #00A6D6;border-radius: 10px\">"
            ]
        },
        {
            "cell_type": "markdown",
            "metadata": {
                "cellIdentifier": "i31ta8sgy6ha6js3mi6d9",
                "deletable": false,
                "editable": false,
                "nbgrader": {
                    "grade": false,
                    "locked": true,
                    "solution": false
                }
            },
            "source": [
                "<h1>Model</h1>\n",
                "\n",
                "In order to obtain a balanced scale between $y_1$ and $y_2$, the prey population $y_1$ is measured in units of $1000$ fish, while the predator population $y_2$ is in units of $1$ fish. A well-known model in this situation (Predator-Prey model or Volterra-Lotka model including harvesting (Schaefer model)) reads\n",
                "$$\n",
                "\\left\\{\\begin{array}{rcl}\n",
                "\\dfrac{dy_1}{dt} & = & (a-A y_2)y_1-W(t)y_1, \\\\\\\\\n",
                "\\dfrac{dy_2}{dt} & = & (-c+C y_1)y_2,\n",
                "\\end{array}\\right.\n",
                "$$\n",
                "with $W=W(t)$ the seasonal fishing load factor, which is given by\n",
                "$$\n",
                "W(t) = \\left\\{\\begin{array}{rrcl}\n",
                "W(t+1), & & t& <0, \\\\\\\\\n",
                "0, & 0\\leq & t & <\\dfrac{3}{12}, \\\\\\\\\n",
                "W_0, & \\dfrac{3}{12}\\leq & t & <\\dfrac{8}{12}, \\\\\\\\\n",
                "0, & \\dfrac{8}{12}\\leq & t & <1, \\\\\\\\\n",
                "W(t-1), & 1\\leq & t,\n",
                "\\end{array}\\right.\n",
                "$$\n",
                "with time $t$ measured in years.\n",
                "\n",
                "The initial populations $y_1(0)$ and $y_2(0)$ are assumed to be known:\n",
                "$$\n",
                "\\begin{array}{rcl}\n",
                "y_1(0) & = & 600, \\\\\n",
                "y_2(0) & = & 1000.\n",
                "\\end{array}\n",
                "$$\n",
                "\n",
                "Furthermore, it is given that $0\\leq W_0\\leq 6$."
            ]
        },
        {
            "cell_type": "markdown",
            "metadata": {
                "cellIdentifier": "jesmjbfcqf58nzy2e5xbl",
                "deletable": false,
                "editable": false,
                "nbgrader": {
                    "grade": false,
                    "locked": true,
                    "solution": false
                }
            },
            "source": [
                "<hr style=\"border: 25px solid #00A6D6;border-radius: 10px\">"
            ]
        },
        {
            "cell_type": "markdown",
            "metadata": {
                "cellIdentifier": "mbfa86wo04blaco16y24y",
                "deletable": false,
                "editable": false,
                "nbgrader": {
                    "grade": false,
                    "locked": true,
                    "solution": false
                }
            },
            "source": [
                "<h1>Sub-Assignment 0</h1>\n",
                "\n",
                "Within the above model the values for the parameters $a$, $c$, $A$ and $C$ are missing.\n",
                "\n",
                "To obtain these values, please perform the following steps:\n",
                "\n",
                "<h1 style=\"color:red\">Obtain the values of $a$, $c$, $A$ and $C$ in Grasple using the Grasple Subject <em>Practical Assignment I - Sub-Assignment 0</em>.</h1>\n",
                "\n",
                "Detailed steps:\n",
                "- Go to [Brightspace](https://brightspace.tudelft.nl).\n",
                "- Log in and go to the Brightspace page of your course.\n",
                "- Go to Content and then the page of this practical assignment.\n",
                "- Click on the link to Grasple presented there.\n",
                "- Open the first Grasple Subject titled \"Practical Assignment I - Sub-Assignment 0\".\n",
                "- Fill in the student number of one student in your group.\n",
                "- Copy the shown values for $a$, $c$, $A$ and $C$.\n",
                "- Finally:\n",
                "\n",
                "<h1 style=\"color:red\">Fill in the used student number and the values of $a$, $c$, $A$ and $C$ you obtained in the next cell:</h1>"
            ]
        },
        {
            "cell_type": "code",
            "execution_count": 1,
            "metadata": {
                "cellIdentifier": "5mtsaz7bdrcwi5l490hj7c",
                "deletable": false
            },
            "outputs": [],
            "source": [
                "# Code for Sub-Assignment 0\n",
                "\n",
                "''' start of lines to be changed '''\n",
                "\n",
                "student_number = 1174916\n",
                "a = 1.0\n",
                "c = 2.0\n",
                "A = 1e-3\n",
                "C = 5e-3\n",
                "\n",
                "''' end of lines to be changed '''\n",
                "\n",
                "# Check whether you filled in values\n",
                "import sys\n",
                "sys.path.append('.resources')\n",
                "from test_practical_assignment_I import Test_subassignment0\n",
                "from student_class import student_values\n",
                "student = student_values(a,c,A,C)\n",
                "Test_subassignment0(student)"
            ]
        },
        {
            "cell_type": "markdown",
            "metadata": {
                "cellIdentifier": "1ovuqzh1m9atepjshmaq5n",
                "deletable": false,
                "editable": false,
                "nbgrader": {
                    "grade": false,
                    "locked": true,
                    "solution": false
                }
            },
            "source": [
                "<hr style=\"border: 25px solid #00A6D6;border-radius: 10px\">"
            ]
        },
        {
            "cell_type": "markdown",
            "metadata": {
                "cellIdentifier": "gogturgwf0lq3h42xi9vk",
                "deletable": false,
                "editable": false,
                "nbgrader": {
                    "grade": false,
                    "locked": true,
                    "solution": false
                }
            },
            "source": [
                "<h1>Sub-Assignment 1</h1>\n",
                "\n",
                "In this assignment we want to use a time integration method with the following properties:\n",
                "- The time integration method is *explicit*, because of the non-linearity of the problem;\n",
                "- The time integration method has an *accuracy* of $\\mathcal{O}(\\Delta t^p)$ with $p\\geq2$, as it should be accurate enough;\n",
                "- The time integration method should allow time steps $\\Delta t>0$ such that it is *stable* in the only non-zero equilibrium state for $W_0=0$, as unstable results do not seem realistic. See also Section 6.8 of the course book.\n",
                "\n",
                "To select the appropriate method, consider the five time-integration methods discussed in the book of the course in Section 6.7.\n",
                "\n",
                "<h1 style=\"color:red\">Answer the following questions:</h1>\n",
                "\n",
                "> ### *Which of the five methods is/are explicit and has/have an accuracy of $\\mathcal{O}(\\Delta t^p)$ with $p\\geq2$? Give details and arguments.*\n",
                "\n",
                "> ### *What is the equilibrium state $\\begin{pmatrix}y_{1,\\rm eq}\\\\y_{2,\\rm eq}\\end{pmatrix}$ for $W_0=0$ and of what stability type is this equilibrium state? Give details and arguments.*\n",
                "\n",
                "> ### *For all methods yet under consideration: is there an appropriate upper bound for the time step such that the method satisfies the demanded stability properties? If such a bound exists, determine it exactly.If such a bound does not exist, give an explanation. Give details and arguments.*\n",
                "\n",
                "> ### *Which of the five methods should finally be chosen for the numerical simulations? Give details and arguments.*\n",
                "\n",
                "<h2>You need to do the necessary calculations and explain your answers!</h2>\n",
                "\n",
                "<h1 style=\"color:red\">Verify your answers in Grasple using the Grasple Test <em>Practical Assignment I - Sub-Assignment 1</em>.</h1>\n",
                "\n",
                "<h1 style=\"color:red\">Give your verified answers by completing the Markdown code cells below.</h1>\n",
                "\n",
                "You can use Markdown and $\\LaTeX$ in your answer. For more information, see:\n",
                "\n",
                "- Markdown: https://daringfireball.net/projects/markdown/\n",
                "\n",
                "- $\\LaTeX$: https://www.latex-project.org/"
            ]
        },
        {
            "cell_type": "markdown",
            "metadata": {
                "cellIdentifier": "dga0zvqqaxumzyppoj3d6b",
                "deletable": false,
                "editable": false,
                "nbgrader": {
                    "grade": false,
                    "locked": true,
                    "solution": false
                }
            },
            "source": [
                "<h1>Results for Sub-Assignment 1</h1>"
            ]
        },
        {
            "cell_type": "markdown",
            "metadata": {
                "cellIdentifier": "7hijpqtr2gsf5yn1o7xnyw",
                "deletable": false
            },
            "source": [
                "<h2>Candidate time-integration method(s) based on computational effort and accuracy</h2>\n",
                "\n",
                "The five time-integration methods considered are:\n",
                "- Forward Euler method\n",
                "- Backward Euler method\n",
                "- Trapezoidal method\n",
                "- Modified Euler method\n",
                "- RK4 method\n",
                "\n",
                "Of these five methods the following method(s) can be used:\n",
                "- Modified Euler method\n",
                "- RK4 method\n",
                "\n",
                "Because these are the only methods that are explicit and have an order of at minimum 2."
            ]
        },
        {
            "cell_type": "markdown",
            "metadata": {
                "cellIdentifier": "kxpvw1wz6yq74au71o958",
                "deletable": false
            },
            "source": [
                "<h2>Equilibrium state</h2>\n",
                "\n",
                "Setting $\\frac{dy_1}{dt}=0$ and $\\frac{dy_2}{dt}=0$ in the system of differential equations and solving for $y_1$ and $y_2$ results in the equilibrium\n",
                "\n",
                "$$\n",
                "\\begin{pmatrix}y_{1,\\rm eq}\\\\y_{2,\\rm eq}\\end{pmatrix}=\\begin{pmatrix}\\frac{c}{C}\\\\\\frac{a}{A}\\end{pmatrix}.\n",
                "$$\n",
                "\n",
                "The Jacobian of the system evaluated at this equilibrium has the eigenvalues\n",
                "$$\n",
                "\\lambda_1=\\overline{\\lambda}_2=i\\sqrt{ac},\n",
                "$$\n",
                "which makes the equilibrium point a (stable) center/circle point and solutions near this point should be spiraling around this point."
            ]
        },
        {
            "cell_type": "markdown",
            "metadata": {
                "cellIdentifier": "gxk7vq7hjbibqnm0qqdx",
                "deletable": false
            },
            "source": [
                "<h2>Appropriate upper bound for the time step</h2>\n",
                "\n",
                "<h3>Modified Euler method</h3>\n",
                "\n",
                "Beacuse the eigenvalues are purely imaginary, it can be concluded from the stability region of the Modified Euler method that there is no time step $\\Delta t>0$ such that the Modified Euler method is stable.\n",
                "\n",
                "<h3>RK4 method</h3>\n",
                "\n",
                "Beacuse the eigenvalues are purely imaginary, it can be concluded from the stability region of the RK4 method that there is a time step $\\Delta t>0$ such that the RK4 method is stable.\n",
                "\n",
                "Three appropriate upper bounds can be used. First the exact upper bound can be used, stated as\n",
                "$$\n",
                "|Q(\\lambda_i\\Delta t)|\\leq1,\\text{ for }  i=1,2,\n",
                "$$\n",
                "with $Q$ the amplicfication factor of the RK4 method. Solving this inequality (using a computer), results in the upper bound\n",
                "$$\n",
                "\\Delta t \\leq \\frac{2\\sqrt{2}}{\\sqrt{ac}}.\n",
                "$$\n",
                "The second option is using the $2.8$-rule, which results in\n",
                "$$\n",
                "\\Delta t \\leq \\frac{2.8}{\\sqrt{ac}}.\n",
                "$$\n",
                "Finally the $2.5$-rule can be used:\n",
                "$$\n",
                "\\Delta t \\leq \\frac{2.5}{\\sqrt{ac}}.\n",
                "$$"
            ]
        },
        {
            "cell_type": "markdown",
            "metadata": {
                "cellIdentifier": "xahqose0nvbib6ax4b1w58",
                "deletable": false
            },
            "source": [
                "<h2>Final choice for time-integration method</h2>\n",
                "\n",
                "Because only the RK4 method satisfies all set demands and allows stable numerical results, this is the method of choice."
            ]
        },
        {
            "cell_type": "markdown",
            "metadata": {
                "cellIdentifier": "84ew3ieujcw9z8zx8uu1c",
                "deletable": false,
                "editable": false,
                "nbgrader": {
                    "grade": false,
                    "locked": true,
                    "solution": false
                }
            },
            "source": [
                "<hr style=\"border: 25px solid #00A6D6;border-radius: 10px\">"
            ]
        },
        {
            "cell_type": "markdown",
            "metadata": {
                "cellIdentifier": "etp5qndatpnd2bxscd51d",
                "deletable": false,
                "editable": false,
                "nbgrader": {
                    "grade": false,
                    "locked": true,
                    "solution": false
                }
            },
            "source": [
                "<h1>Sub-Assignment 2</h1>\n",
                "\n",
                "For now, we select $\\Delta t=0.5$ and $W_0=2$. (Please note that this value for $\\Delta t$ does not imply that an appropriate upper bound is larger than this value.) Run a simulation for $t\\in[0,5]$.\n",
                "\n",
                "<h1 style=\"color:red\">Adapt, extend and use the code in the next cells such that it implements the method you selected and verified in Sub-Assignment 1.</h1>\n",
                "\n",
                "<h2>There are three code cells below, each with there own target use:</h2>\n",
                "\n",
                "1. A cell for programming the needed functions and setting the settings.\n",
                "\n",
                "2. A cell where you can test and run your functions and settings.\n",
                "\n",
                "3. A cell where we check you code.\n",
                "\n",
                "<h1 style=\"color:red\">Your code and answers will be verified automatically in the last cell and the result will be shown on screen.</h1>"
            ]
        },
        {
            "cell_type": "markdown",
            "metadata": {
                "cellIdentifier": "s6gmv6v1i2gf5hogt9qor",
                "deletable": false,
                "editable": false,
                "nbgrader": {
                    "grade": false,
                    "locked": true,
                    "solution": false
                }
            },
            "source": [
                "<h2>Code cell for functions and settings</h2>"
            ]
        },
        {
            "cell_type": "code",
            "execution_count": 2,
            "metadata": {
                "cellIdentifier": "y56a6i0gdohrw2jgr3xe",
                "deletable": false
            },
            "outputs": [],
            "source": [
                "# Code for Sub-Assignment 2\n",
                "\n",
                "# import extra modules/functions\n",
                "import numpy as np\n",
                "\n",
                "# Define the  right-hand side function\n",
                "def RightHandSide(t_val, y_val, a,c,A,C,W_0):\n",
                "    # INPUT\n",
                "    # t_val: the value of the time t at which the right-hand side function will be evaluated.\n",
                "    # y_val: the value of the vector y of dependent variables  at which the right-hand side function will be evaluated,\n",
                "    #        which we assume contains v as the first value, and H_S as the second value at time t_val.\n",
                "    # a: the value of the parameter a to use within this function.\n",
                "    # c : The value of parameter c to use within this function.\n",
                "    # A : The value of parameter A to use within this function.\n",
                "    # C : The value of parameter C to use within this function.\n",
                "    # W_0 : The value of parameter W_0 to use within this function.\n",
                "\n",
                "    # OUTPUT\n",
                "    # f: the vector containing the values of the right-hand side of the system of d.e.'s at t_val and y_val\n",
                "    \n",
                "    # extract the values of y_1 and y_2 from y_val\n",
                "    y_1 = y_val[0]\n",
                "    y_2 = y_val[1]\n",
                "    \n",
                "    ''' start of lines to be changed '''\n",
                "    \n",
                "    t = np.mod(t_val,1)\n",
                "    if (t >= 3/12) and (t < 8/12):\n",
                "        W = W_0\n",
                "    else:\n",
                "        W = 0\n",
                "    \n",
                "    f_1 = (a-A*y_2)*y_1-W*y_1\n",
                "    f_2 = (-c+C*y_1)*y_2\n",
                "          \n",
                "    ''' end of lines to be changed '''\n",
                "    \n",
                "    # build f\n",
                "    f = np.array([f_1, f_2])\n",
                "    \n",
                "    return f\n",
                "\n",
                "# Define one step of the time-integration method\n",
                "def SingleTimeStep(t_n, w_n, Dt, a,c,A,C,W_0):\n",
                "    # INPUT\n",
                "    # t_n: the time at which the numerical solution w_n is known within this function.\n",
                "    # w_n: the known numerical solution to be used within this function.\n",
                "    # Dt: the time step to be used within this function.\n",
                "    # a: the value of the parameter a to use within this function.\n",
                "    # c : The value of parameter c to use within this function.\n",
                "    # A : The value of parameter A to use within this function.\n",
                "    # C : The value of parameter C to use within this function.\n",
                "    # W_0 : The value of parameter W_0 to use within this function.\n",
                "\n",
                "    # OUTPUT\n",
                "    # w_nplus1: the numerical solution at time t_n + Dt in a numpy array\n",
                "\n",
                "    ''' start of lines to be changed '''\n",
                "\n",
                "#     # You can perform one evaluation of the right-hand side function with the following line:\n",
                "#     f_num = RightHandSide(t_n, w_n, a,c,A,C,W_0)\n",
                "    \n",
                "    k1 = Dt*RightHandSide(t_n, w_n, a,c,A,C,W_0)\n",
                "    k2 = Dt*RightHandSide(t_n+0.5*Dt, w_n+0.5*k1, a,c,A,C,W_0)\n",
                "    k3 = Dt*RightHandSide(t_n+0.5*Dt, w_n+0.5*k2, a,c,A,C,W_0)\n",
                "    k4 = Dt*RightHandSide(t_n+Dt, w_n+k3, a,c,A,C,W_0)\n",
                "    w_nplus1 = w_n+1/6*(k1+2*k2+2*k3+k4)\n",
                "       \n",
                "    ''' end of lines to be changed '''\n",
                "\n",
                "    return w_nplus1\n",
                "\n",
                "# Define the entire time-integration method\n",
                "def TimeIntegrationMethod(t_0, t_end, Dt, y_0, a,c,A,C,W_0):\n",
                "    # INPUT\n",
                "    # t_0: the time at which the numerical simulation should start to use within this function.\n",
                "    # t_end: the time at which the numerical simulation should end to use within this function.\n",
                "    # Dt: the time step to be used in the numerical simulation to use within this function.\n",
                "    # y_0: the known initial condition at time t_0 to use within this function.\n",
                "    # a: the value of the parameter a to use within this function.\n",
                "    # c : The value of parameter c to use within this function.\n",
                "    # A : The value of parameter A to use within this function.\n",
                "    # C : The value of parameter C to use within this function.\n",
                "    # W_0 : The value of parameter W_0 to use within this function.\n",
                "\n",
                "    # OUTPUT\n",
                "    # t_num: an array containing all numerical times at which a numerical solution has been calculated\n",
                "    # w_num: an array containing all calculated numerical solutions.\n",
                "    #        w_num[:,j] corresponds to the numerical solution at time t_num[j]\n",
                "\n",
                "    # calculate the number of time steps to take\n",
                "    N = int(np.round((t_end - t_0) / Dt))\n",
                "\n",
                "    # create t_num\n",
                "    t_num = np.linspace(t_0, t_end, num=N + 1)\n",
                "\n",
                "    # Allocate memory for the approximations\n",
                "    w_num = np.zeros((y_0.size, N + 1))\n",
                "\n",
                "    # store the (given) initial value\n",
                "    w_num[:, 0] = y_0\n",
                "\n",
                "    # Perform all time steps\n",
                "    for n, t_n in enumerate(t_num[:-1]):  # last time is not included\n",
                "        # perform one time step\n",
                "        w_num[:, n + 1] = SingleTimeStep(t_n, w_num[:, n], Dt, a,c,A,C,W_0)\n",
                "        \n",
                "    return t_num, w_num\n",
                "\n",
                "# Set the information needed to perform the numerical simulation\n",
                "\n",
                "# define the time interval on which the numerical simulations should be performed\n",
                "t_0 = 0.0\n",
                "t_end = 5.0\n",
                "\n",
                "# define the time step which should be used in the numerical simulation\n",
                "Dt = 0.5\n",
                "\n",
                "# define the known initial condition\n",
                "y_1 = 600\n",
                "y_2 = 1000\n",
                "y_0 = np.array([y_1,y_2]) # Combine the initial conditions into one array\n",
                "\n",
                "# define the value of the parameter W_0\n",
                "W_0 = 2"
            ]
        },
        {
            "cell_type": "markdown",
            "metadata": {
                "cellIdentifier": "qa7e4yep0ysi781cw9dy9",
                "deletable": false,
                "editable": false,
                "nbgrader": {
                    "grade": false,
                    "locked": true,
                    "solution": false
                }
            },
            "source": [
                "<h2>Code cell for testing your code yourself</h2>"
            ]
        },
        {
            "cell_type": "code",
            "execution_count": 3,
            "metadata": {
                "cellIdentifier": "f0ae6clfsamgxs3izceub",
                "deletable": false,
                "scrolled": false
            },
            "outputs": [],
            "source": [
                "%matplotlib notebook\n",
                "import matplotlib.pyplot as plt\n",
                "# Do whatever you want in this cell. Please make sure everything works as it should.\n",
                "# You can print and plot if need be.\n",
                "# You can run the main simulation using the next line:\n",
                "t_num, w_num = TimeIntegrationMethod(t_0, t_end, Dt, y_0, a,c,A,C,W_0)\n",
                "plt.figure(2)\n",
                "plt.plot(t_num,w_num.T)\n",
                "plt.show()\n",
                "print(t_num,'\\n',w_num)"
            ]
        },
        {
            "cell_type": "markdown",
            "metadata": {
                "cellIdentifier": "2gey0m3ulwrls5ju3wu1fn",
                "deletable": false,
                "editable": false,
                "nbgrader": {
                    "grade": false,
                    "locked": true,
                    "solution": false
                }
            },
            "source": [
                "<h2>Code cell for automatic code verification</h2>"
            ]
        },
        {
            "cell_type": "code",
            "execution_count": 4,
            "metadata": {
                "cellIdentifier": "3n3xcyx8megxf5r6ghj27",
                "deletable": false,
                "editable": false,
                "nbgrader": {
                    "grade": false,
                    "locked": true,
                    "solution": false
                },
                "scrolled": false
            },
            "outputs": [],
            "source": [
                "# The code below tests your code and returns whether it works properly.\n",
                "# If the code does not work properly, you will receive tips what might be wrong.\n",
                "# If the code does work properly, a tabel with the results of the simulation will be shown.\n",
                "from test_practical_assignment_I import Test_subassignment2\n",
                "student = student_values(a,c,A,C,RightHandSide=RightHandSide,SingleTimeStep=SingleTimeStep,TimeIntegrationMethod=TimeIntegrationMethod)\n",
                "Test_subassignment2(student)"
            ]
        },
        {
            "cell_type": "markdown",
            "metadata": {
                "cellIdentifier": "dsk4cntzob60rtzqja2ds",
                "deletable": false,
                "editable": false,
                "nbgrader": {
                    "grade": false,
                    "locked": true,
                    "solution": false
                }
            },
            "source": [
                "<hr style=\"border: 25px solid #00A6D6;border-radius: 10px\">"
            ]
        },
        {
            "cell_type": "markdown",
            "metadata": {
                "cellIdentifier": "haxt7i24reuxl0g1bje4gf",
                "deletable": false,
                "editable": false,
                "nbgrader": {
                    "grade": false,
                    "locked": true,
                    "solution": false
                }
            },
            "source": [
                "<h1>Sub-Assignment 3</h1>\n",
                "\n",
                "For now, we select $W_0=0.01$.\n",
                "\n",
                "To have an accurate estimate for $W_0$, the errors in your solutions should not be too large and you need to determine an appropriate time step $\\Delta t$.\n",
                "\n",
                "Given $W_0=0.01$ and some time step $\\Delta t$, you can estimate the global truncation errors $e(t,\\Delta t)$ at $t=1$ using the techniques from Section 6.9 from the course book (read carefully and every sentence). If we take $\\Delta t=0.25$ and keep dividing $\\Delta t$ by $2$ until the absolute value of the estimated global truncation errors in $y_1(1)$ and $y_2(1)$ are smaller or equal to $10^{-3}$, we can find the largest time step $\\Delta t$ such that the errors are not too large.\n",
                "\n",
                "<h1 style=\"color:red\">Adapt, extend and use the code in the next cells to answer the following question:</h1>\n",
                "\n",
                "> ### *What is the largest time step $\\Delta t$, where $\\Delta t$ is $0.25$ times a non-negative power of $\\frac12$, such that the absolute value of the estimated global truncation errors in $y_1(1)$ and $y_2(1)$ with $W_0=0.01$ are smaller or equal to $10^{-3}$?*\n",
                "\n",
                "<h2>There are three code cells below, each with there own target use:</h2>\n",
                "\n",
                "1. A cell for programming the needed functions and setting the settings\n",
                "\n",
                "2. A cell where you can test and run your functions and settings\n",
                "\n",
                "3. A cell where we check you code.\n",
                "\n",
                "<h1 style=\"color:red\">Your code and answers will be verified automatically in the last cell and the result will be shown on screen.</h1>"
            ]
        },
        {
            "cell_type": "markdown",
            "metadata": {
                "cellIdentifier": "wj2p4xtw0xmolbrmz4ev4l",
                "deletable": false,
                "editable": false,
                "nbgrader": {
                    "grade": false,
                    "locked": true,
                    "solution": false
                }
            },
            "source": [
                "<h2>Code cell for functions and settings</h2>"
            ]
        },
        {
            "cell_type": "code",
            "execution_count": 5,
            "metadata": {
                "cellIdentifier": "fiww7lq3cr60hdbjk48zlha",
                "deletable": false,
                "scrolled": false
            },
            "outputs": [],
            "source": [
                "# Code for Sub-Assignment 3\n",
                "\n",
                "# import extra modules/functions\n",
                "\n",
                "# Define a function that calculates the estimated global truncation errors\n",
                "def EstimateError(t_0,t_end,Dt,y_0, a,c,A,C,W_0):\n",
                "    # INPUT\n",
                "    # t_0: the time at which the numerical simulation should start to use within this function.\n",
                "    # t_end: the time at which the numerical simulation should end to use within this function.\n",
                "    # Dt: the time step to be used in the numerical simulation to use within this function.\n",
                "    # y_0: the known initial condition at time t_0 to use within this function.\n",
                "    # a: the value of the parameter a to use within this function.\n",
                "    # c : The value of parameter c to use within this function.\n",
                "    # A : The value of parameter A to use within this function.\n",
                "    # C : The value of parameter C to use within this function.\n",
                "    # W_0 : The value of parameter W_0 to use within this function.\n",
                "    \n",
                "    # OUTPUT\n",
                "    # est_global_error: the estimated global truncation error at time t_end for all variables of the problem.\n",
                "    #                   This should be NUMPY array of the same size as y_0.\n",
                "    \n",
                "\n",
                "    ''' start of lines to be changed '''\n",
                "    \n",
                "    ''' YOU CAN CHANGE ANYTHING HERE '''\n",
                "    ''' JUST MAKE SURE THE OUTPUT MATCHES THE ABOVE DEFINITIONS '''\n",
                "    \n",
                "#     # You can perform one single numerical simulation with the following line:\n",
                "#     t_num, w_num = TimeIntegrationMethod(t_0,t_end,Dt,y_0, a,c,A,C,W_0)\n",
                "    \n",
                "    _ , w_fine = TimeIntegrationMethod(t_0,t_end,Dt,y_0, a,c,A,C,W_0)\n",
                "    _ , w_course = TimeIntegrationMethod(t_0,t_end,2*Dt,y_0, a,c,A,C,W_0)\n",
                "    \n",
                "    est_global_error = (w_fine[:,-1]-w_course[:,-1])/15\n",
                "           \n",
                "    ''' end of lines to be changed '''\n",
                "    \n",
                "    return est_global_error\n",
                "\n",
                "# Define a function that determines the largest Dt for which the estimated global truncation errors satisfy a given bound\n",
                "# also returns all used time steps and calculated errors in two arrays\n",
                "def DetermineTimeStep(t_0,t_end,Dt_start,y_0,bound,EstimateError, a,c,A,C,W_0):\n",
                "    # INPUT\n",
                "    # t_0: the time at which the numerical simulation should start\n",
                "    # t_end: the time at which the numerical simulation should end\n",
                "    # Dt_start: the first time step to be considered\n",
                "    # y_0: the known initial condition at time t_0     \n",
                "    # bound: the bound below which the estimated global truncation error must lie\n",
                "    # EstimateError: The function used to estimate the errors.\n",
                "    # a: the value of the parameter a to use within this function.\n",
                "    # c : The value of parameter c to use within this function.\n",
                "    # A : The value of parameter A to use within this function.\n",
                "    # C : The value of parameter C to use within this function.\n",
                "    # W_0 : The value of parameter W_0 to use within this function.\n",
                "    \n",
                "    # OUTPUT\n",
                "    # Dt_opt: the largest Dt for which the estimated global truncation error satisfies a given bound\n",
                "    # Dt_list: all considered Dt's. This should be a NUMPY array.\n",
                "    # err_list: all calculated estimated global truncation errors. err_list[:,i] should correspond with Dt_list[i].\n",
                "    #           This should be a NUMPY array with as many rows as those of y_0.\n",
                "    #           The last element of Dt_list is the largest Dt for which the estimated global truncation error satisfies\n",
                "    #           a given bound.\n",
                "    \n",
                "    ''' start of lines to be changed '''\n",
                "    \n",
                "    ''' YOU CAN CHANGE ANYTHING HERE '''\n",
                "    ''' JUST MAKE SURE THE OUTPUT MATCHES THE ABOVE DEFINITIONS '''\n",
                "    \n",
                "#     # You can estimate one global truncation error with the following line:\n",
                "#     global_trunction_error = EstimateError(t_0,t_end,Dt,y_0, a,c,A,C,W_0)\n",
                "\n",
                "    Dt_list = [Dt_start]\n",
                "    err_list = [EstimateError(t_0,t_end,Dt_list[-1],y_0, a,c,A,C,W_0)]\n",
                "    \n",
                "    while np.any(np.abs(err_list[-1])>bound):\n",
                "        Dt_list.append(Dt_list[-1]/2)\n",
                "        err_list.append(EstimateError(t_0,t_end,Dt_list[-1],y_0, a,c,A,C,W_0))\n",
                "    \n",
                "    Dt_list = np.array(Dt_list)\n",
                "    err_list = np.array(err_list).T\n",
                "    Dt_opt = Dt_list[-1]\n",
                "    \n",
                "    ''' end of lines to be changed '''\n",
                "    \n",
                "    return Dt_opt, Dt_list, err_list\n",
                "\n",
                "# Set the information needed to perform the numerical optimization\n",
                "\n",
                "# define the time interval on which the numerical optimization should be performed\n",
                "t_0 = 0\n",
                "t_end = 1.0\n",
                "\n",
                "# define the first time step which should be used in the numerical optimization\n",
                "Dt_start = 0.25\n",
                "\n",
                "# define the value of the parameter W_0\n",
                "W_0 = 0.01\n",
                "\n",
                "# define the bound for the global truncaction error in the numerical optimization\n",
                "bound = 1e-3"
            ]
        },
        {
            "cell_type": "markdown",
            "metadata": {
                "cellIdentifier": "oy3xkawvowq5x8utr83yy3",
                "deletable": false,
                "editable": false,
                "nbgrader": {
                    "grade": false,
                    "locked": true,
                    "solution": false
                }
            },
            "source": [
                "<h2>Code cell for testing and running your code yourself</h2>"
            ]
        },
        {
            "cell_type": "code",
            "execution_count": 6,
            "metadata": {
                "cellIdentifier": "u0phynzr9ng1s5sz5wkj7u",
                "deletable": false,
                "scrolled": false
            },
            "outputs": [],
            "source": [
                "# Do whatever you want in this cell. Please make sure everything works as it should.\n",
                "# You can print and plot if need be.\n",
                "# You can run the main optimisation using the next line:\n",
                "Dt_opt, Dt_list, err_list = DetermineTimeStep(t_0,t_end,Dt_start,y_0,bound,EstimateError, a,c,A,C,W_0)\n",
                "plt.figure(3)\n",
                "plt.loglog(Dt_list,np.abs(err_list.T))\n",
                "plt.show()\n",
                "print(Dt_opt,'\\n',Dt_list,'\\n',err_list)"
            ]
        },
        {
            "cell_type": "markdown",
            "metadata": {
                "cellIdentifier": "m5w2r4aocudooz1ab4dofj",
                "deletable": false,
                "editable": false,
                "nbgrader": {
                    "grade": false,
                    "locked": true,
                    "solution": false
                }
            },
            "source": [
                "<h2>Code cell for automatic code verification</h2>"
            ]
        },
        {
            "cell_type": "code",
            "execution_count": 7,
            "metadata": {
                "cellIdentifier": "a4e1j4sl8yu4vbzuixolw",
                "deletable": false,
                "editable": false,
                "nbgrader": {
                    "grade": false,
                    "locked": true,
                    "solution": false
                },
                "scrolled": false
            },
            "outputs": [],
            "source": [
                "# The code below tests your code and returns whether it works properly.\n",
                "# If the code does not work properly, you will receive tips what might be wrong.\n",
                "# If the code does work properly, a tabel and a figure with the results of the simulation will be shown.\n",
                "from test_practical_assignment_I import Test_subassignment3\n",
                "student = student_values(a,c,A,C,EstimateError=EstimateError,DetermineTimeStep=DetermineTimeStep,TimeIntegrationMethod=TimeIntegrationMethod)\n",
                "Dt_opt = Test_subassignment3(student)"
            ]
        },
        {
            "cell_type": "markdown",
            "metadata": {
                "cellIdentifier": "eek4lf7nbze9bz6gcpdh",
                "deletable": false,
                "editable": false,
                "nbgrader": {
                    "grade": false,
                    "locked": true,
                    "solution": false
                }
            },
            "source": [
                "<hr style=\"border: 25px solid #00A6D6;border-radius: 10px\">"
            ]
        },
        {
            "cell_type": "markdown",
            "metadata": {
                "cellIdentifier": "cu5vmji6c27rwhc9uamlwj",
                "deletable": false,
                "editable": false,
                "nbgrader": {
                    "grade": false,
                    "locked": true,
                    "solution": false
                }
            },
            "source": [
                "<h1>Sub-Assignment 4</h1>\n",
                "\n",
                "Using the value for $\\Delta t$ you found in the previous assignment (by reusing its value automatically), answer the research question. That is,\n",
                "\n",
                "<h1 style=\"color:red\">Adapt, extend and use the code in the next cell to answer the following question:</h1>\n",
                "\n",
                "> ### __*What is the highest value of $W_0$ such that $y_2(t)\\geq100$ for $t\\in[0,10]$?*__\n",
                "\n",
                "<h1 style=\"color:red\">Determine your answer for $W_0$ exact to 2 decimals (i.e. limit the considered values to multiples of  $0.01$).</h1>\n",
                "\n",
                "<h1 style=\"color:red\">You may assume that the behavior of the system is a little bit predictable as the value $W_0$ of changes. Use the pictures above to get an idea of this predictability.</h1>\n",
                "\n",
                "<h1 style=\"color:red\">Your code should run independent of the settings/input.</h1>\n",
                "\n",
                "<h2>There are three cells below, each with there own target use:</h2>\n",
                "\n",
                "1. A code cell for programming the needed functions and setting the settings\n",
                "\n",
                "2. A code cell where you can test and run your functions and settings\n",
                "\n",
                "3. A code cell where your code is run by us and some output is generated.\n",
                "\n",
                "<h1 style=\"color:red\">Your code and answers will be verified automatically in the last cell and the result will be shown on screen.</h1>"
            ]
        },
        {
            "cell_type": "markdown",
            "metadata": {
                "cellIdentifier": "kqz8w41abxjs51r4imrjj",
                "deletable": false,
                "editable": false,
                "nbgrader": {
                    "grade": false,
                    "locked": true,
                    "solution": false
                }
            },
            "source": [
                "<h2>Code cell for functions and settings</h2>"
            ]
        },
        {
            "cell_type": "code",
            "execution_count": 8,
            "metadata": {
                "cellIdentifier": "rv1w438pifw805lf0t8oi",
                "deletable": false,
                "scrolled": false
            },
            "outputs": [],
            "source": [
                "# Define a function that determines the answer to research question with supporting output\n",
                "def AnswerResearchQuestion(t_0,t_end,Dt,y_0,a,c,A,C):\n",
                "    # INPUT\n",
                "    # t_0: the time at which the numerical simulation should start\n",
                "    # t_end: the time at which the numerical simulation should end\n",
                "    # Dt: the time step to be used\n",
                "    # y_0: the known initial condition at time t_0 \n",
                "    # a: the value of the parameter a to use within this function.\n",
                "    # c : The value of parameter c to use within this function.\n",
                "    # A : The value of parameter A to use within this function.\n",
                "    # c: The value of parameter C to use within this function.\n",
                "    \n",
                "    # OUTPUT\n",
                "    # W_0_opt: the optimal W_0\n",
                "    #          this should be a number\n",
                "    # W_0_list: all used W_0 values in your code.\n",
                "    #           This should be a NUMPY array with one dimension.\n",
                "    #           W_0_opt must be part of this array.\n",
                "    # extra_output: Fill this variable with useful information that supports your research answer.\n",
                "    #               DO NOT PUT TO MUCH INFORMATION IN THIS VARIABLE, as that is useless.\n",
                "    #               extra_output[i,:] should correspond with D_S_list[i].\n",
                "    #               This should be a NUMPY array with 1 or 2 dimensions.\n",
                "    #               This variable must contain at least one column and try to keep the number of columns below 5.\n",
                "    #               Each column must mean something related to the research question.\n",
                "    #               A plot of extra_output[:,j] versus W_0_list must make sense\n",
                "    #                  and should be useful in an article to support your value for W_0_opt\n",
                "    # extra_names: a LIST of STRINGS with the names of the extra output you generated.\n",
                "    #              extra_names[j] should correspond with the data in extra_output[:,j].\n",
                "    \n",
                "    ''' start of lines to be changed '''\n",
                "    \n",
                "    ''' YOU CAN CHANGE ANYTHING HERE '''\n",
                "    ''' JUST MAKE SURE THE OUTPUT MATCHES THE ABOVE DEFINITIONS '''\n",
                "    \n",
                "    # Observation from figures: minimum value for y_2 goes down as W_0 goes up.\n",
                "    # Searching for largest W_0, so that minimum of y_2 is above 100.\n",
                "    # Solution: Start with steps of -1 from 6 and stop at 0 or if >100 is found\n",
                "    \n",
                "    W_0_list = [6]\n",
                "    _,w_num = TimeIntegrationMethod(t_0,t_end,Dt,y_0, a,c,A,C,W_0_list[-1])\n",
                "    y_2_min = [np.min(w_num[1,:])]\n",
                "    while y_2_min[-1]<100:\n",
                "        W_0_list.append(W_0_list[-1]-1.0)\n",
                "        _,w_num = TimeIntegrationMethod(t_0,t_end,Dt,y_0, a,c,A,C,W_0_list[-1])\n",
                "        y_2_min.append(np.min(w_num[1,:]))\n",
                "        if np.abs(W_0_list[-1])<0.01/2:\n",
                "            break\n",
                "    if len(W_0_list)>1:\n",
                "        W_0_list.pop()\n",
                "        y_2_min.pop()\n",
                "    while y_2_min[-1]<100:\n",
                "        W_0_list.append(W_0_list[-1]-0.1)\n",
                "        _,w_num = TimeIntegrationMethod(t_0,t_end,Dt,y_0, a,c,A,C,W_0_list[-1])\n",
                "        y_2_min.append(np.min(w_num[1,:]))\n",
                "        if np.abs(W_0_list[-1])<0.01/2:\n",
                "            break\n",
                "    if len(W_0_list)>1:\n",
                "        W_0_list.pop()\n",
                "        y_2_min.pop()\n",
                "    while y_2_min[-1]<100:\n",
                "        W_0_list.append(W_0_list[-1]-0.01)\n",
                "        _,w_num = TimeIntegrationMethod(t_0,t_end,Dt,y_0, a,c,A,C,W_0_list[-1])\n",
                "        y_2_min.append(np.min(w_num[1,:]))\n",
                "        if np.abs(W_0_list[-1])<0.01/2:\n",
                "            break\n",
                "    W_0_opt = W_0_list[-1]\n",
                "    \n",
                "    W_0_list = np.array(W_0_list)\n",
                "    extra_output = np.array(y_2_min)\n",
                "    extra_names = ['y_2_min']\n",
                "    \n",
                "    ''' end of lines to be changed '''\n",
                "    \n",
                "    # make sure that extra_output has 2 dimensions (if it is a numpy array)\n",
                "    if isinstance(extra_output,type(np.array([]))):\n",
                "        if len(extra_output.shape)<2:\n",
                "            extra_output = extra_output.reshape((-1,1))\n",
                "    \n",
                "    return W_0_opt, W_0_list, extra_output, extra_names\n",
                "\n",
                "# Set the information needed to perform the numerical optimization\n",
                "\n",
                "# define the time interval on which the numerical optimization should be performed\n",
                "t_0 = 0\n",
                "t_end = 10\n",
                "\n",
                "# define the time step to be used\n",
                "Dt = Dt_opt"
            ]
        },
        {
            "cell_type": "markdown",
            "metadata": {
                "cellIdentifier": "79cjmszuxz8enj521qd7hk",
                "deletable": false,
                "editable": false,
                "nbgrader": {
                    "grade": false,
                    "locked": true,
                    "solution": false
                }
            },
            "source": [
                "<h2>Code cell for testing and running your code yourself</h2>"
            ]
        },
        {
            "cell_type": "code",
            "execution_count": 9,
            "metadata": {
                "cellIdentifier": "jihmm2235zjbjn4p0b7ed",
                "deletable": false,
                "scrolled": false
            },
            "outputs": [],
            "source": [
                "# Do whatever you want in this cell. Please make sure everything works as it should.\n",
                "# You can print and plot if need be.\n",
                "# You can run the main optimisation using the next line:\n",
                "# W_0_opt, W_0_list, extra_output, extra_names = AnswerResearchQuestion(t_0,t_end,Dt_opt,y_0,a,c,A,C)\n",
                "# plt.figure()\n",
                "# for i in np.arange(len(extra_names)):\n",
                "#     plt.plot(W_0_list,extra_output[:,i],'o',label=extra_names[i])\n",
                "# plt.legend()\n",
                "# plt.show()\n",
                "# print(W_0_opt)\n",
                "AnswerResearchQuestion(0.0,0.9,0.0003515625,np.array([ 600, 1000]),1.0,2.0,0.001,0.005)"
            ]
        },
        {
            "cell_type": "markdown",
            "metadata": {
                "cellIdentifier": "qc94d77ozn8jg18jcm0768",
                "deletable": false,
                "editable": false,
                "nbgrader": {
                    "grade": false,
                    "locked": true,
                    "solution": false
                }
            },
            "source": [
                "<h2>Code cell for automatic run and output</h2>"
            ]
        },
        {
            "cell_type": "code",
            "execution_count": 10,
            "metadata": {
                "cellIdentifier": "37tbx5h7y21mlurhbzkkvd",
                "deletable": false,
                "editable": false,
                "nbgrader": {
                    "grade": false,
                    "locked": true,
                    "solution": false
                },
                "scrolled": false
            },
            "outputs": [],
            "source": [
                "# The code below runs your code and returns nicely formatted results.\n",
                "# If the code gives an error or warning, you will be notified.\n",
                "# If the code does work properly, a figure with the results of the simulation will be shown.\n",
                "from test_practical_assignment_I import Test_subassignment4\n",
                "student = student_values(a,c,A,C,Dt_opt=Dt_opt,TimeIntegrationMethod=TimeIntegrationMethod,AnswerResearchQuestion=AnswerResearchQuestion)\n",
                "Test_subassignment4(student)"
            ]
        },
        {
            "cell_type": "markdown",
            "metadata": {
                "cellIdentifier": "gslvq1kc0k74jielp4qvge",
                "deletable": false,
                "editable": false,
                "nbgrader": {
                    "grade": false,
                    "locked": true,
                    "solution": false
                }
            },
            "source": [
                "<hr style=\"border: 25px solid #00A6D6;border-radius: 10px\">"
            ]
        },
        {
            "cell_type": "markdown",
            "metadata": {
                "cellIdentifier": "1p2mqrmfpgz5by0ku8hhdx",
                "deletable": false,
                "editable": false,
                "nbgrader": {
                    "grade": false,
                    "locked": true,
                    "solution": false
                }
            },
            "source": [
                "<h1>Sub-Assignment 5</h1>\n",
                "\n",
                "<h1 style=\"color:red\">Rerun the entire notebook and make sure all answers are still correct and no errors occur.</h1>\n",
                "\n",
                "<h1 style=\"color:red\">Download the notebook.</h1>\n",
                "\n",
                "<h1 style=\"color:red\">Submit it in Brightspace in the Assignment <em>Practical Assignment I</em> for the final assessment.</h1>\n"
            ]
        }
    ],
    "metadata": {
        "course_info": {
            "ID": 123456,
            "course": "AESB",
            "period": "Q2",
            "year": "2022-2023"
        },
        "kernelspec": {
            "display_name": "Python 3 [3.10]",
            "language": "python",
            "name": "python3"
        },
        "language_info": {
            "codemirror_mode": {
                "name": "ipython",
                "version": 3
            },
            "file_extension": ".py",
            "mimetype": "text/x-python",
            "name": "python",
            "nbconvert_exporter": "python",
            "pygments_lexer": "ipython3",
            "version": "3.10.2"
        }
    },
    "nbformat": 4,
    "nbformat_minor": 4
}
